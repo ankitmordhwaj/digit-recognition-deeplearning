{
 "cells": [
  {
   "cell_type": "markdown",
   "metadata": {},
   "source": [
    "# Digit Recognition"
   ]
  },
  {
   "cell_type": "code",
   "execution_count": null,
   "metadata": {},
   "outputs": [],
   "source": []
  },
  {
   "cell_type": "code",
   "execution_count": 1,
   "metadata": {},
   "outputs": [],
   "source": [
    "import numpy as np\n",
    "import pandas as pd"
   ]
  },
  {
   "cell_type": "code",
   "execution_count": null,
   "metadata": {},
   "outputs": [],
   "source": []
  },
  {
   "cell_type": "code",
   "execution_count": 2,
   "metadata": {},
   "outputs": [
    {
     "name": "stderr",
     "output_type": "stream",
     "text": [
      "Using TensorFlow backend.\n",
      "/anaconda3/lib/python3.7/importlib/_bootstrap.py:219: RuntimeWarning: compiletime version 3.6 of module 'tensorflow.python.framework.fast_tensor_util' does not match runtime version 3.7\n",
      "  return f(*args, **kwds)\n"
     ]
    }
   ],
   "source": [
    "import keras"
   ]
  },
  {
   "cell_type": "code",
   "execution_count": 3,
   "metadata": {},
   "outputs": [],
   "source": [
    "from keras.layers import Dense\n",
    "from keras.models import Sequential\n",
    "from keras.utils import to_categorical\n",
    "from keras.callbacks import EarlyStopping"
   ]
  },
  {
   "cell_type": "code",
   "execution_count": null,
   "metadata": {},
   "outputs": [],
   "source": []
  },
  {
   "cell_type": "code",
   "execution_count": 4,
   "metadata": {},
   "outputs": [],
   "source": [
    "data=pd.read_csv('mnist.csv')"
   ]
  },
  {
   "cell_type": "code",
   "execution_count": 5,
   "metadata": {},
   "outputs": [
    {
     "name": "stderr",
     "output_type": "stream",
     "text": [
      "/anaconda3/lib/python3.7/site-packages/ipykernel_launcher.py:1: FutureWarning: Method .as_matrix will be removed in a future version. Use .values instead.\n",
      "  \"\"\"Entry point for launching an IPython kernel.\n"
     ]
    }
   ],
   "source": [
    "predicator=data.drop(['5'],axis=1).as_matrix()"
   ]
  },
  {
   "cell_type": "code",
   "execution_count": 6,
   "metadata": {},
   "outputs": [],
   "source": [
    "target=to_categorical(data['5'])"
   ]
  },
  {
   "cell_type": "code",
   "execution_count": null,
   "metadata": {},
   "outputs": [],
   "source": []
  },
  {
   "cell_type": "code",
   "execution_count": 7,
   "metadata": {},
   "outputs": [],
   "source": [
    "model=Sequential()"
   ]
  },
  {
   "cell_type": "code",
   "execution_count": 8,
   "metadata": {},
   "outputs": [
    {
     "name": "stdout",
     "output_type": "stream",
     "text": [
      "WARNING:tensorflow:From /anaconda3/lib/python3.7/site-packages/tensorflow/python/framework/op_def_library.py:263: colocate_with (from tensorflow.python.framework.ops) is deprecated and will be removed in a future version.\n",
      "Instructions for updating:\n",
      "Colocations handled automatically by placer.\n"
     ]
    }
   ],
   "source": [
    "model.add(Dense(50,activation='relu',input_shape=(784,)))"
   ]
  },
  {
   "cell_type": "code",
   "execution_count": 9,
   "metadata": {},
   "outputs": [],
   "source": [
    "model.add(Dense(50,activation='relu'))"
   ]
  },
  {
   "cell_type": "code",
   "execution_count": 10,
   "metadata": {},
   "outputs": [],
   "source": [
    "model.add(Dense(10,activation='softmax'))"
   ]
  },
  {
   "cell_type": "code",
   "execution_count": 11,
   "metadata": {},
   "outputs": [],
   "source": [
    "early_stopping_monitor=EarlyStopping(patience=2)"
   ]
  },
  {
   "cell_type": "code",
   "execution_count": 12,
   "metadata": {},
   "outputs": [],
   "source": [
    "model.compile(optimizer='adam',loss='categorical_crossentropy',metrics=['accuracy'])"
   ]
  },
  {
   "cell_type": "code",
   "execution_count": null,
   "metadata": {},
   "outputs": [],
   "source": []
  },
  {
   "cell_type": "code",
   "execution_count": 13,
   "metadata": {},
   "outputs": [
    {
     "name": "stdout",
     "output_type": "stream",
     "text": [
      "WARNING:tensorflow:From /anaconda3/lib/python3.7/site-packages/tensorflow/python/ops/math_ops.py:3066: to_int32 (from tensorflow.python.ops.math_ops) is deprecated and will be removed in a future version.\n",
      "Instructions for updating:\n",
      "Use tf.cast instead.\n",
      "Train on 1400 samples, validate on 600 samples\n",
      "Epoch 1/20\n",
      "1400/1400 [==============================] - 0s 317us/step - loss: 13.2217 - acc: 0.1736 - val_loss: 12.4368 - val_acc: 0.2250\n",
      "Epoch 2/20\n",
      "1400/1400 [==============================] - 0s 94us/step - loss: 12.0607 - acc: 0.2486 - val_loss: 11.6893 - val_acc: 0.2700\n",
      "Epoch 3/20\n",
      "1400/1400 [==============================] - 0s 92us/step - loss: 11.7124 - acc: 0.2700 - val_loss: 11.1575 - val_acc: 0.3033\n",
      "Epoch 4/20\n",
      "1400/1400 [==============================] - 0s 96us/step - loss: 11.0920 - acc: 0.3029 - val_loss: 10.6849 - val_acc: 0.3200\n",
      "Epoch 5/20\n",
      "1400/1400 [==============================] - 0s 109us/step - loss: 9.6865 - acc: 0.3829 - val_loss: 9.0190 - val_acc: 0.4267\n",
      "Epoch 6/20\n",
      "1400/1400 [==============================] - 0s 99us/step - loss: 8.1574 - acc: 0.4829 - val_loss: 8.3027 - val_acc: 0.4783\n",
      "Epoch 7/20\n",
      "1400/1400 [==============================] - 0s 90us/step - loss: 8.1548 - acc: 0.4871 - val_loss: 9.0047 - val_acc: 0.4350\n",
      "Epoch 8/20\n",
      "1400/1400 [==============================] - 0s 97us/step - loss: 7.8655 - acc: 0.5057 - val_loss: 7.8704 - val_acc: 0.5050\n",
      "Epoch 9/20\n",
      "1400/1400 [==============================] - 0s 163us/step - loss: 7.3888 - acc: 0.5357 - val_loss: 7.4897 - val_acc: 0.5333\n",
      "Epoch 10/20\n",
      "1400/1400 [==============================] - 0s 158us/step - loss: 7.1075 - acc: 0.5564 - val_loss: 7.1542 - val_acc: 0.5517\n",
      "Epoch 11/20\n",
      "1400/1400 [==============================] - 0s 119us/step - loss: 7.1900 - acc: 0.5493 - val_loss: 6.9286 - val_acc: 0.5550\n",
      "Epoch 12/20\n",
      "1400/1400 [==============================] - 0s 131us/step - loss: 7.0645 - acc: 0.5571 - val_loss: 7.0422 - val_acc: 0.5617\n",
      "Epoch 13/20\n",
      "1400/1400 [==============================] - 0s 113us/step - loss: 6.9706 - acc: 0.5629 - val_loss: 7.3593 - val_acc: 0.5383\n"
     ]
    },
    {
     "data": {
      "text/plain": [
       "<keras.callbacks.History at 0x10ca3dd68>"
      ]
     },
     "execution_count": 13,
     "metadata": {},
     "output_type": "execute_result"
    }
   ],
   "source": [
    "model.fit(predicator,target,validation_split=0.3,epochs=20,callbacks=[early_stopping_monitor])"
   ]
  },
  {
   "cell_type": "code",
   "execution_count": null,
   "metadata": {},
   "outputs": [],
   "source": []
  }
 ],
 "metadata": {
  "kernelspec": {
   "display_name": "Python 3",
   "language": "python",
   "name": "python3"
  },
  "language_info": {
   "codemirror_mode": {
    "name": "ipython",
    "version": 3
   },
   "file_extension": ".py",
   "mimetype": "text/x-python",
   "name": "python",
   "nbconvert_exporter": "python",
   "pygments_lexer": "ipython3",
   "version": "3.7.3"
  }
 },
 "nbformat": 4,
 "nbformat_minor": 2
}
